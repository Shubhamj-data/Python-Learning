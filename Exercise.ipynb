{
 "cells": [
  {
   "cell_type": "markdown",
   "id": "e12a1015-14db-4c79-b8d5-928f89e3c7be",
   "metadata": {},
   "source": [
    "Excersize - Create a Program for MD, HR, Employee"
   ]
  },
  {
   "cell_type": "code",
   "execution_count": 34,
   "id": "1d492d3e-9402-4237-9ab3-7bedb6a55490",
   "metadata": {},
   "outputs": [],
   "source": [
    "class Employee:\n",
    "    def __init__(self, emp_id, emp_name, emp_designation, emp_salary):\n",
    "        self.id = emp_id\n",
    "        self.name = emp_name\n",
    "        self.desig = emp_designation\n",
    "        self._salary = emp_salary\n",
    "\n",
    "    def display(self):\n",
    "        print(f\"ID: {self.id}\\nName: {self.name}\\nDesignation: {self.desig}\\nSalary: {self._salary}\")\n",
    "\n",
    "class MD(Employee):\n",
    "    def __init__(self, emp_id, emp_name, emp_designation, emp_salary):\n",
    "        super().__init__(emp_id, emp_name, emp_designation, emp_salary)\n",
    "\n",
    "    def approve_emp(self, employee):\n",
    "        print(f\"Please approve employee {employee.name}\")\n",
    "        s = input(\"Enter 'Yes' for approval or Enter 'No' for rejection: \")\n",
    "        if s.lower() == \"yes\":\n",
    "            print(f\"Employment of {employee.name} (ID: {employee.id}) has been approved.\")\n",
    "            return True\n",
    "        else:\n",
    "            print(f\"Employment of {employee.name} (ID: {employee.id}) has been rejected.\")\n",
    "            return False\n",
    "\n",
    "class HR(Employee):\n",
    "    def __init__(self, emp_id, emp_name, emp_designation, emp_salary):\n",
    "        super().__init__(emp_id, emp_name, emp_designation, emp_salary)\n",
    "        self.managed_employees = []\n",
    "\n",
    "    def add_emp(self, employee):\n",
    "        self.managed_employees.append(employee)\n",
    "        print(f\"Employee {employee.name} (ID: {employee.id}) added to records.\")\n",
    "\n",
    "    def remove_emp(self, employee_id):\n",
    "        for emp in self.managed_employees:\n",
    "            if emp.id == employee_id:\n",
    "                self.managed_employees.remove(emp)\n",
    "                print(f\"Employee {emp.name} (ID: {emp.id}) removed from records.\")\n",
    "                return\n",
    "        print(\"Employee not found.\")\n",
    "\n",
    "    def show_list(self):\n",
    "        print(\"Managed Employee List:\")\n",
    "        for emp in self.managed_employees:\n",
    "            emp.display()\n",
    "            print(\"-\" * 30)\n"
   ]
  },
  {
   "cell_type": "code",
   "execution_count": 33,
   "id": "c8e36815-6a8a-4daf-ae3d-732cd4dc1d61",
   "metadata": {},
   "outputs": [
    {
     "name": "stdin",
     "output_type": "stream",
     "text": [
      "Enter your ID: -  2\n",
      "Enter your name: -  shubham\n",
      "Enter your designation: - lead\n",
      "Enter your salary: - 200000\n"
     ]
    },
    {
     "name": "stdout",
     "output_type": "stream",
     "text": [
      "\n",
      "Please approve employee shubham\n"
     ]
    },
    {
     "name": "stdin",
     "output_type": "stream",
     "text": [
      "Enter 'Yes' for approval or Enter 'No' for rejection:  no\n"
     ]
    },
    {
     "name": "stdout",
     "output_type": "stream",
     "text": [
      "Employment of shubham (ID: 2) has been rejected.\n",
      "Employee was not added to records due to rejection.\n",
      "Managed Employee List:\n"
     ]
    }
   ],
   "source": [
    "ID=int(input(\"Enter your ID: - \"))\n",
    "name=str(input(\"Enter your name: - \"))\n",
    "designation=str(input(\"Enter your designation: -\"))\n",
    "salary=int(input(\"Enter your salary: -\"))\n",
    "\n",
    "emp1 = Employee(ID,name,designation,salary)\n",
    "\n",
    "md = MD(201, \"Mr. Singh\", \"Managing Director\", 150000)\n",
    "approval_status = md.approve_emp(emp1)\n",
    "\n",
    "hr = HR(301, \"Ms. Sharma\", \"HR Manager\", 90000)\n",
    "if approval_status:\n",
    "    hr.add_emp(emp1)\n",
    "else:\n",
    "    print(\"Employee was not added to records due to rejection.\")\n",
    "\n",
    "hr.show_list()"
   ]
  }
 ],
 "metadata": {
  "kernelspec": {
   "display_name": "Python 3 (ipykernel)",
   "language": "python",
   "name": "python3"
  },
  "language_info": {
   "codemirror_mode": {
    "name": "ipython",
    "version": 3
   },
   "file_extension": ".py",
   "mimetype": "text/x-python",
   "name": "python",
   "nbconvert_exporter": "python",
   "pygments_lexer": "ipython3",
   "version": "3.13.5"
  }
 },
 "nbformat": 4,
 "nbformat_minor": 5
}
